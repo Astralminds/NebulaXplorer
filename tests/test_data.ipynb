{
 "cells": [
  {
   "cell_type": "code",
   "execution_count": 1,
   "metadata": {},
   "outputs": [
    {
     "data": {
      "text/plain": [
       "(shape: (5, 3)\n",
       " ┌──────────┬──────┬──────────────┐\n",
       " │ date     ┆ name ┆ return_value │\n",
       " │ ---      ┆ ---  ┆ ---          │\n",
       " │ i64      ┆ str  ┆ f64          │\n",
       " ╞══════════╪══════╪══════════════╡\n",
       " │ 20200102 ┆ 905  ┆ -0.002011    │\n",
       " │ 20200103 ┆ 905  ┆ 0.014292     │\n",
       " │ 20200106 ┆ 905  ┆ 0.007365     │\n",
       " │ 20200107 ┆ 905  ┆ -0.002941    │\n",
       " │ 20200108 ┆ 905  ┆ 0.008381     │\n",
       " └──────────┴──────┴──────────────┘,\n",
       " shape: (5, 4)\n",
       " ┌──────────┬──────┬─────────────┬──────────────┐\n",
       " │ date     ┆ code ┆ factor_name ┆ factor_value │\n",
       " │ ---      ┆ ---  ┆ ---         ┆ ---          │\n",
       " │ i64      ┆ i32  ┆ str         ┆ f64          │\n",
       " ╞══════════╪══════╪═════════════╪══════════════╡\n",
       " │ 20200102 ┆ 1    ┆ factor1     ┆ 0.028484     │\n",
       " │ 20200102 ┆ 2    ┆ factor1     ┆ 0.065162     │\n",
       " │ 20200102 ┆ 4    ┆ factor1     ┆ 0.018787     │\n",
       " │ 20200102 ┆ 6    ┆ factor1     ┆ 0.03666      │\n",
       " │ 20200102 ┆ 7    ┆ factor1     ┆ 0.031985     │\n",
       " └──────────┴──────┴─────────────┴──────────────┘,\n",
       " shape: (5, 4)\n",
       " ┌──────────┬──────┬───────────────────┬──────────────┐\n",
       " │ date     ┆ code ┆ target_name       ┆ target_value │\n",
       " │ ---      ┆ ---  ┆ ---               ┆ ---          │\n",
       " │ i64      ┆ i32  ┆ str               ┆ f64          │\n",
       " ╞══════════╪══════╪═══════════════════╪══════════════╡\n",
       " │ 20200102 ┆ 1    ┆ 1d_forward_return ┆ 0.004132     │\n",
       " │ 20200102 ┆ 2    ┆ 1d_forward_return ┆ -0.029349    │\n",
       " │ 20200102 ┆ 4    ┆ 1d_forward_return ┆ -0.004931    │\n",
       " │ 20200102 ┆ 6    ┆ 1d_forward_return ┆ 0.009259     │\n",
       " │ 20200102 ┆ 7    ┆ 1d_forward_return ┆ -0.01046     │\n",
       " └──────────┴──────┴───────────────────┴──────────────┘)"
      ]
     },
     "execution_count": 1,
     "metadata": {},
     "output_type": "execute_result"
    }
   ],
   "source": [
    "import polars as pl\n",
    "benchmarks = pl.read_parquet('../data/benchmarks_nx.parquet')\n",
    "factors = pl.read_parquet('../data/factors_nx.parquet')\n",
    "targets = pl.read_parquet('../data/targets_nx.parquet')\n",
    "benchmarks.head(), factors.head(), targets.head()"
   ]
  },
  {
   "cell_type": "code",
   "execution_count": 2,
   "metadata": {},
   "outputs": [
    {
     "name": "stderr",
     "output_type": "stream",
     "text": [
      "\u001b[2m\u001b[32m[  Prepare(nx)  ]\u001b[0m\u001b[2m\u001b[32m2024-08-16 14:13:55\u001b[0m\u001b[2m | \u001b[36mutils.py\u001b[0m\u001b[2m:\u001b[36mnebular_xplorer.utils\u001b[0m\u001b[2m:\u001b[36mprepare\u001b[0m\u001b[2m:\u001b[36m22\u001b[0m\u001b[2m | \u001b[36m6483\u001b[0m\u001b[2m 0:00:00.566048 \u001b[0m \n",
      " └──── \u001b[1mINFO\u001b[0m: \u001b[1m\n",
      "    Nx full data prepared from 20200102 to 20201231.\n",
      "    Shape: (915277, 5)\n",
      "    Days: 243 \n",
      "    Num of avg codes: 3766\u001b[0m\n"
     ]
    }
   ],
   "source": [
    "import sys\n",
    "sys.path.append('../')\n",
    "from nebular_xplorer.utils import prepare, getReturnTable\n",
    "key_name = ['date', 'code']\n",
    "full_data = prepare(factors, targets)\n",
    "return_table = getReturnTable(full_data, 'factor1', '1d_forward_return',benchmarks)"
   ]
  }
 ],
 "metadata": {
  "kernelspec": {
   "display_name": "env39",
   "language": "python",
   "name": "python3"
  },
  "language_info": {
   "codemirror_mode": {
    "name": "ipython",
    "version": 3
   },
   "file_extension": ".py",
   "mimetype": "text/x-python",
   "name": "python",
   "nbconvert_exporter": "python",
   "pygments_lexer": "ipython3",
   "version": "3.9.19"
  }
 },
 "nbformat": 4,
 "nbformat_minor": 2
}
